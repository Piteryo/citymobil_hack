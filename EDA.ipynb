{
 "cells": [
  {
   "cell_type": "code",
   "execution_count": 197,
   "metadata": {},
   "outputs": [
    {
     "name": "stderr",
     "output_type": "stream",
     "text": [
      "C:\\Anaconda3\\envs\\hse\\lib\\site-packages\\tqdm\\std.py:651: FutureWarning: The Panel class is removed from pandas. Accessing it from the top-level namespace will also be removed in the next version\n",
      "  from pandas import Panel\n"
     ]
    }
   ],
   "source": [
    "import numbers\n",
    "from pathlib import Path\n",
    "\n",
    "import numpy as np\n",
    "import pandas as pd\n",
    "from scipy import stats\n",
    "\n",
    "from geopy import distance\n",
    "\n",
    "import osmnx as ox\n",
    "import networkx as nx\n",
    "\n",
    "from tqdm.autonotebook import tqdm\n",
    "tqdm.pandas()"
   ]
  },
  {
   "cell_type": "code",
   "execution_count": 3,
   "metadata": {},
   "outputs": [],
   "source": [
    "data_path = Path('final-etarta')"
   ]
  },
  {
   "cell_type": "code",
   "execution_count": 160,
   "metadata": {},
   "outputs": [],
   "source": [
    "train = pd.read_csv(data_path / 'train.csv')\n",
    "valid = pd.read_csv(data_path / 'validation.csv')\n",
    "test = pd.read_csv(data_path / 'test.csv')"
   ]
  },
  {
   "cell_type": "code",
   "execution_count": 161,
   "metadata": {},
   "outputs": [
    {
     "data": {
      "text/plain": [
       "(832718, 23)"
      ]
     },
     "execution_count": 161,
     "metadata": {},
     "output_type": "execute_result"
    }
   ],
   "source": [
    "train.shape"
   ]
  },
  {
   "cell_type": "code",
   "execution_count": 162,
   "metadata": {},
   "outputs": [
    {
     "data": {
      "text/html": [
       "<div>\n",
       "<style scoped>\n",
       "    .dataframe tbody tr th:only-of-type {\n",
       "        vertical-align: middle;\n",
       "    }\n",
       "\n",
       "    .dataframe tbody tr th {\n",
       "        vertical-align: top;\n",
       "    }\n",
       "\n",
       "    .dataframe thead th {\n",
       "        text-align: right;\n",
       "    }\n",
       "</style>\n",
       "<table border=\"1\" class=\"dataframe\">\n",
       "  <thead>\n",
       "    <tr style=\"text-align: right;\">\n",
       "      <th></th>\n",
       "      <th>Id</th>\n",
       "      <th>main_id_locality</th>\n",
       "      <th>ETA</th>\n",
       "      <th>RTA</th>\n",
       "      <th>OrderedDate</th>\n",
       "      <th>latitude</th>\n",
       "      <th>del_latitude</th>\n",
       "      <th>longitude</th>\n",
       "      <th>del_longitude</th>\n",
       "      <th>EDA</th>\n",
       "      <th>...</th>\n",
       "      <th>GoodArrived</th>\n",
       "      <th>ready_latitude</th>\n",
       "      <th>ready_longitude</th>\n",
       "      <th>onway_latitude</th>\n",
       "      <th>onway_longitude</th>\n",
       "      <th>arrived_latitude</th>\n",
       "      <th>arrived_longitude</th>\n",
       "      <th>center_latitude</th>\n",
       "      <th>center_longitude</th>\n",
       "      <th>route</th>\n",
       "    </tr>\n",
       "  </thead>\n",
       "  <tbody>\n",
       "    <tr>\n",
       "      <th>0</th>\n",
       "      <td>0</td>\n",
       "      <td>1078</td>\n",
       "      <td>226.0</td>\n",
       "      <td>188.0</td>\n",
       "      <td>2020-02-12 19:12:06</td>\n",
       "      <td>55.826019</td>\n",
       "      <td>55.825581</td>\n",
       "      <td>49.134529</td>\n",
       "      <td>49.126949</td>\n",
       "      <td>1.0</td>\n",
       "      <td>...</td>\n",
       "      <td>2020-02-12 19:18:14</td>\n",
       "      <td>55.825647</td>\n",
       "      <td>49.134115</td>\n",
       "      <td>55.826261</td>\n",
       "      <td>49.134137</td>\n",
       "      <td>55.825706</td>\n",
       "      <td>49.127136</td>\n",
       "      <td>55.794388</td>\n",
       "      <td>49.111531</td>\n",
       "      <td>gnvsIaq{jHChA??uC???OPG^F^NRzKBd@AN[r@???`@`@`...</td>\n",
       "    </tr>\n",
       "    <tr>\n",
       "      <th>1</th>\n",
       "      <td>1</td>\n",
       "      <td>1078</td>\n",
       "      <td>718.0</td>\n",
       "      <td>725.0</td>\n",
       "      <td>2020-02-12 19:12:22</td>\n",
       "      <td>55.795502</td>\n",
       "      <td>55.820911</td>\n",
       "      <td>49.131470</td>\n",
       "      <td>49.115360</td>\n",
       "      <td>5.0</td>\n",
       "      <td>...</td>\n",
       "      <td>2020-02-12 19:31:47</td>\n",
       "      <td>55.795591</td>\n",
       "      <td>49.132281</td>\n",
       "      <td>55.795544</td>\n",
       "      <td>49.131552</td>\n",
       "      <td>55.821531</td>\n",
       "      <td>49.115685</td>\n",
       "      <td>55.794388</td>\n",
       "      <td>49.111531</td>\n",
       "      <td>sqpsI}~zjHyAr]e@lMk@fLaBlb@i@rLKhBCdAUxEGlCg@f...</td>\n",
       "    </tr>\n",
       "    <tr>\n",
       "      <th>2</th>\n",
       "      <td>2</td>\n",
       "      <td>1078</td>\n",
       "      <td>612.0</td>\n",
       "      <td>764.0</td>\n",
       "      <td>2020-02-12 19:12:44</td>\n",
       "      <td>55.791050</td>\n",
       "      <td>55.819962</td>\n",
       "      <td>49.226070</td>\n",
       "      <td>49.176628</td>\n",
       "      <td>5.0</td>\n",
       "      <td>...</td>\n",
       "      <td>2020-02-12 19:28:09</td>\n",
       "      <td>55.791099</td>\n",
       "      <td>49.226066</td>\n",
       "      <td>55.791099</td>\n",
       "      <td>49.226066</td>\n",
       "      <td>55.819765</td>\n",
       "      <td>49.177432</td>\n",
       "      <td>55.794388</td>\n",
       "      <td>49.111531</td>\n",
       "      <td>auosI}mmkH?LHd@KhC??o@w@[g@m@iAUk@??{G|OiB`Ek@...</td>\n",
       "    </tr>\n",
       "    <tr>\n",
       "      <th>3</th>\n",
       "      <td>3</td>\n",
       "      <td>1078</td>\n",
       "      <td>1560.0</td>\n",
       "      <td>1412.0</td>\n",
       "      <td>2020-02-12 19:12:44</td>\n",
       "      <td>55.753899</td>\n",
       "      <td>55.824680</td>\n",
       "      <td>49.188519</td>\n",
       "      <td>49.093700</td>\n",
       "      <td>13.0</td>\n",
       "      <td>...</td>\n",
       "      <td>2020-02-12 19:42:41</td>\n",
       "      <td>55.754116</td>\n",
       "      <td>49.188853</td>\n",
       "      <td>55.754116</td>\n",
       "      <td>49.188853</td>\n",
       "      <td>55.824734</td>\n",
       "      <td>49.094013</td>\n",
       "      <td>55.794388</td>\n",
       "      <td>49.111531</td>\n",
       "      <td>{lhsIiffkHmKN_C?mIPwMJ??Si@gA{B??Wq@MRCJTp@hAd...</td>\n",
       "    </tr>\n",
       "    <tr>\n",
       "      <th>4</th>\n",
       "      <td>4</td>\n",
       "      <td>1078</td>\n",
       "      <td>1528.0</td>\n",
       "      <td>893.0</td>\n",
       "      <td>2020-02-12 19:12:45</td>\n",
       "      <td>55.822361</td>\n",
       "      <td>55.786758</td>\n",
       "      <td>49.069092</td>\n",
       "      <td>49.143501</td>\n",
       "      <td>9.0</td>\n",
       "      <td>...</td>\n",
       "      <td>2020-02-12 19:32:19</td>\n",
       "      <td>55.822483</td>\n",
       "      <td>49.069659</td>\n",
       "      <td>55.822617</td>\n",
       "      <td>49.069229</td>\n",
       "      <td>55.786936</td>\n",
       "      <td>49.143330</td>\n",
       "      <td>55.794388</td>\n",
       "      <td>49.111531</td>\n",
       "      <td>yxusI{xnjHgAfG??}IuHkAqA??pIoe@VsA??dAkG`BuH??...</td>\n",
       "    </tr>\n",
       "  </tbody>\n",
       "</table>\n",
       "<p>5 rows × 23 columns</p>\n",
       "</div>"
      ],
      "text/plain": [
       "   Id  main_id_locality     ETA     RTA          OrderedDate   latitude  \\\n",
       "0   0              1078   226.0   188.0  2020-02-12 19:12:06  55.826019   \n",
       "1   1              1078   718.0   725.0  2020-02-12 19:12:22  55.795502   \n",
       "2   2              1078   612.0   764.0  2020-02-12 19:12:44  55.791050   \n",
       "3   3              1078  1560.0  1412.0  2020-02-12 19:12:44  55.753899   \n",
       "4   4              1078  1528.0   893.0  2020-02-12 19:12:45  55.822361   \n",
       "\n",
       "   del_latitude  longitude  del_longitude   EDA  ...          GoodArrived  \\\n",
       "0     55.825581  49.134529      49.126949   1.0  ...  2020-02-12 19:18:14   \n",
       "1     55.820911  49.131470      49.115360   5.0  ...  2020-02-12 19:31:47   \n",
       "2     55.819962  49.226070      49.176628   5.0  ...  2020-02-12 19:28:09   \n",
       "3     55.824680  49.188519      49.093700  13.0  ...  2020-02-12 19:42:41   \n",
       "4     55.786758  49.069092      49.143501   9.0  ...  2020-02-12 19:32:19   \n",
       "\n",
       "  ready_latitude ready_longitude onway_latitude  onway_longitude  \\\n",
       "0      55.825647       49.134115      55.826261        49.134137   \n",
       "1      55.795591       49.132281      55.795544        49.131552   \n",
       "2      55.791099       49.226066      55.791099        49.226066   \n",
       "3      55.754116       49.188853      55.754116        49.188853   \n",
       "4      55.822483       49.069659      55.822617        49.069229   \n",
       "\n",
       "   arrived_latitude  arrived_longitude  center_latitude  center_longitude  \\\n",
       "0         55.825706          49.127136        55.794388         49.111531   \n",
       "1         55.821531          49.115685        55.794388         49.111531   \n",
       "2         55.819765          49.177432        55.794388         49.111531   \n",
       "3         55.824734          49.094013        55.794388         49.111531   \n",
       "4         55.786936          49.143330        55.794388         49.111531   \n",
       "\n",
       "                                               route  \n",
       "0  gnvsIaq{jHChA??uC???OPG^F^NRzKBd@AN[r@???`@`@`...  \n",
       "1  sqpsI}~zjHyAr]e@lMk@fLaBlb@i@rLKhBCdAUxEGlCg@f...  \n",
       "2  auosI}mmkH?LHd@KhC??o@w@[g@m@iAUk@??{G|OiB`Ek@...  \n",
       "3  {lhsIiffkHmKN_C?mIPwMJ??Si@gA{B??Wq@MRCJTp@hAd...  \n",
       "4  yxusI{xnjHgAfG??}IuHkAqA??pIoe@VsA??dAkG`BuH??...  \n",
       "\n",
       "[5 rows x 23 columns]"
      ]
     },
     "execution_count": 162,
     "metadata": {},
     "output_type": "execute_result"
    }
   ],
   "source": [
    "train.head()"
   ]
  },
  {
   "cell_type": "markdown",
   "metadata": {},
   "source": [
    "Посмотрим насколько сильно ошибается текущая модель"
   ]
  },
  {
   "cell_type": "code",
   "execution_count": 163,
   "metadata": {},
   "outputs": [
    {
     "data": {
      "text/html": [
       "<div>\n",
       "<style scoped>\n",
       "    .dataframe tbody tr th:only-of-type {\n",
       "        vertical-align: middle;\n",
       "    }\n",
       "\n",
       "    .dataframe tbody tr th {\n",
       "        vertical-align: top;\n",
       "    }\n",
       "\n",
       "    .dataframe thead th {\n",
       "        text-align: right;\n",
       "    }\n",
       "</style>\n",
       "<table border=\"1\" class=\"dataframe\">\n",
       "  <thead>\n",
       "    <tr style=\"text-align: right;\">\n",
       "      <th></th>\n",
       "      <th>count</th>\n",
       "      <th>mean</th>\n",
       "      <th>std</th>\n",
       "      <th>min</th>\n",
       "      <th>25%</th>\n",
       "      <th>50%</th>\n",
       "      <th>75%</th>\n",
       "      <th>max</th>\n",
       "    </tr>\n",
       "    <tr>\n",
       "      <th>main_id_locality</th>\n",
       "      <th></th>\n",
       "      <th></th>\n",
       "      <th></th>\n",
       "      <th></th>\n",
       "      <th></th>\n",
       "      <th></th>\n",
       "      <th></th>\n",
       "      <th></th>\n",
       "    </tr>\n",
       "  </thead>\n",
       "  <tbody>\n",
       "    <tr>\n",
       "      <th>1078</th>\n",
       "      <td>312528.0</td>\n",
       "      <td>177.698353</td>\n",
       "      <td>222.934094</td>\n",
       "      <td>-2474.0</td>\n",
       "      <td>48.0</td>\n",
       "      <td>160.0</td>\n",
       "      <td>296.0</td>\n",
       "      <td>2119.0</td>\n",
       "    </tr>\n",
       "    <tr>\n",
       "      <th>22390</th>\n",
       "      <td>182536.0</td>\n",
       "      <td>80.433290</td>\n",
       "      <td>209.996653</td>\n",
       "      <td>-2200.0</td>\n",
       "      <td>-21.0</td>\n",
       "      <td>75.0</td>\n",
       "      <td>182.0</td>\n",
       "      <td>2542.0</td>\n",
       "    </tr>\n",
       "    <tr>\n",
       "      <th>22430</th>\n",
       "      <td>135563.0</td>\n",
       "      <td>161.315536</td>\n",
       "      <td>200.832095</td>\n",
       "      <td>-3156.0</td>\n",
       "      <td>46.0</td>\n",
       "      <td>138.0</td>\n",
       "      <td>255.0</td>\n",
       "      <td>2451.0</td>\n",
       "    </tr>\n",
       "    <tr>\n",
       "      <th>22438</th>\n",
       "      <td>202091.0</td>\n",
       "      <td>212.489725</td>\n",
       "      <td>256.604091</td>\n",
       "      <td>-2804.0</td>\n",
       "      <td>61.0</td>\n",
       "      <td>174.0</td>\n",
       "      <td>329.0</td>\n",
       "      <td>2396.0</td>\n",
       "    </tr>\n",
       "  </tbody>\n",
       "</table>\n",
       "</div>"
      ],
      "text/plain": [
       "                     count        mean         std     min   25%    50%  \\\n",
       "main_id_locality                                                          \n",
       "1078              312528.0  177.698353  222.934094 -2474.0  48.0  160.0   \n",
       "22390             182536.0   80.433290  209.996653 -2200.0 -21.0   75.0   \n",
       "22430             135563.0  161.315536  200.832095 -3156.0  46.0  138.0   \n",
       "22438             202091.0  212.489725  256.604091 -2804.0  61.0  174.0   \n",
       "\n",
       "                    75%     max  \n",
       "main_id_locality                 \n",
       "1078              296.0  2119.0  \n",
       "22390             182.0  2542.0  \n",
       "22430             255.0  2451.0  \n",
       "22438             329.0  2396.0  "
      ]
     },
     "execution_count": 163,
     "metadata": {},
     "output_type": "execute_result"
    }
   ],
   "source": [
    "train.groupby(by='main_id_locality').apply(lambda x: (x['ETA'] - x['RTA']).describe())"
   ]
  },
  {
   "cell_type": "code",
   "execution_count": 164,
   "metadata": {},
   "outputs": [
    {
     "data": {
      "text/html": [
       "<div>\n",
       "<style scoped>\n",
       "    .dataframe tbody tr th:only-of-type {\n",
       "        vertical-align: middle;\n",
       "    }\n",
       "\n",
       "    .dataframe tbody tr th {\n",
       "        vertical-align: top;\n",
       "    }\n",
       "\n",
       "    .dataframe thead th {\n",
       "        text-align: right;\n",
       "    }\n",
       "</style>\n",
       "<table border=\"1\" class=\"dataframe\">\n",
       "  <thead>\n",
       "    <tr style=\"text-align: right;\">\n",
       "      <th></th>\n",
       "      <th>count</th>\n",
       "      <th>mean</th>\n",
       "      <th>std</th>\n",
       "      <th>min</th>\n",
       "      <th>25%</th>\n",
       "      <th>50%</th>\n",
       "      <th>75%</th>\n",
       "      <th>max</th>\n",
       "    </tr>\n",
       "    <tr>\n",
       "      <th>main_id_locality</th>\n",
       "      <th></th>\n",
       "      <th></th>\n",
       "      <th></th>\n",
       "      <th></th>\n",
       "      <th></th>\n",
       "      <th></th>\n",
       "      <th></th>\n",
       "      <th></th>\n",
       "    </tr>\n",
       "  </thead>\n",
       "  <tbody>\n",
       "    <tr>\n",
       "      <th>1078</th>\n",
       "      <td>312528.0</td>\n",
       "      <td>0.471468</td>\n",
       "      <td>2.637179</td>\n",
       "      <td>-43.0</td>\n",
       "      <td>0.0</td>\n",
       "      <td>0.0</td>\n",
       "      <td>1.0</td>\n",
       "      <td>43.0</td>\n",
       "    </tr>\n",
       "    <tr>\n",
       "      <th>22390</th>\n",
       "      <td>182536.0</td>\n",
       "      <td>0.340919</td>\n",
       "      <td>2.203042</td>\n",
       "      <td>-194.0</td>\n",
       "      <td>0.0</td>\n",
       "      <td>0.0</td>\n",
       "      <td>0.0</td>\n",
       "      <td>118.0</td>\n",
       "    </tr>\n",
       "    <tr>\n",
       "      <th>22430</th>\n",
       "      <td>135563.0</td>\n",
       "      <td>0.421450</td>\n",
       "      <td>2.029351</td>\n",
       "      <td>-44.0</td>\n",
       "      <td>0.0</td>\n",
       "      <td>0.0</td>\n",
       "      <td>1.0</td>\n",
       "      <td>69.0</td>\n",
       "    </tr>\n",
       "    <tr>\n",
       "      <th>22438</th>\n",
       "      <td>202091.0</td>\n",
       "      <td>1.114191</td>\n",
       "      <td>3.748445</td>\n",
       "      <td>-62.0</td>\n",
       "      <td>0.0</td>\n",
       "      <td>0.0</td>\n",
       "      <td>1.0</td>\n",
       "      <td>97.0</td>\n",
       "    </tr>\n",
       "  </tbody>\n",
       "</table>\n",
       "</div>"
      ],
      "text/plain": [
       "                     count      mean       std    min  25%  50%  75%    max\n",
       "main_id_locality                                                           \n",
       "1078              312528.0  0.471468  2.637179  -43.0  0.0  0.0  1.0   43.0\n",
       "22390             182536.0  0.340919  2.203042 -194.0  0.0  0.0  0.0  118.0\n",
       "22430             135563.0  0.421450  2.029351  -44.0  0.0  0.0  1.0   69.0\n",
       "22438             202091.0  1.114191  3.748445  -62.0  0.0  0.0  1.0   97.0"
      ]
     },
     "execution_count": 164,
     "metadata": {},
     "output_type": "execute_result"
    }
   ],
   "source": [
    "train.groupby(by='main_id_locality').apply(lambda x: (x['EDA'] - x['RDA']).describe())"
   ]
  },
  {
   "cell_type": "markdown",
   "metadata": {},
   "source": [
    "Либо выбросы, либо что-то очень странное (маршрут на 194 км короче)"
   ]
  },
  {
   "cell_type": "markdown",
   "metadata": {},
   "source": [
    "Выбросы можно почистить либо глобально, либо внутри каждой группы"
   ]
  },
  {
   "cell_type": "code",
   "execution_count": 165,
   "metadata": {},
   "outputs": [],
   "source": [
    "train = train.groupby(by='main_id_locality') \\\n",
    "    .apply(lambda x: x[(np.abs(stats.zscore(x['ETA'] - x['RTA'])) <= 3) & (np.abs(stats.zscore(x['EDA'] - x['RDA'])) <= 3)]) \\\n",
    "    .reset_index(drop=True)"
   ]
  },
  {
   "cell_type": "raw",
   "metadata": {},
   "source": [
    "Глобально:\n",
    "train['z_TA'] = np.abs(stats.zscore(train['ETA'] - train['RTA']))\n",
    "train['z_DA'] = np.abs(stats.zscore(train['EDA'] - train['RDA']))\n",
    "train = train[(train['z_TA'] <= 3) & (train['z_DA'] <= 3)]"
   ]
  },
  {
   "cell_type": "code",
   "execution_count": 166,
   "metadata": {},
   "outputs": [
    {
     "data": {
      "text/plain": [
       "(803180, 23)"
      ]
     },
     "execution_count": 166,
     "metadata": {},
     "output_type": "execute_result"
    }
   ],
   "source": [
    "train.shape"
   ]
  },
  {
   "cell_type": "code",
   "execution_count": 167,
   "metadata": {},
   "outputs": [
    {
     "data": {
      "text/html": [
       "<div>\n",
       "<style scoped>\n",
       "    .dataframe tbody tr th:only-of-type {\n",
       "        vertical-align: middle;\n",
       "    }\n",
       "\n",
       "    .dataframe tbody tr th {\n",
       "        vertical-align: top;\n",
       "    }\n",
       "\n",
       "    .dataframe thead th {\n",
       "        text-align: right;\n",
       "    }\n",
       "</style>\n",
       "<table border=\"1\" class=\"dataframe\">\n",
       "  <thead>\n",
       "    <tr style=\"text-align: right;\">\n",
       "      <th></th>\n",
       "      <th>main_id_locality</th>\n",
       "      <th>time_diff</th>\n",
       "    </tr>\n",
       "  </thead>\n",
       "  <tbody>\n",
       "    <tr>\n",
       "      <th>0</th>\n",
       "      <td>1078</td>\n",
       "      <td>171.399381</td>\n",
       "    </tr>\n",
       "    <tr>\n",
       "      <th>1</th>\n",
       "      <td>22390</td>\n",
       "      <td>78.184118</td>\n",
       "    </tr>\n",
       "    <tr>\n",
       "      <th>2</th>\n",
       "      <td>22430</td>\n",
       "      <td>155.030171</td>\n",
       "    </tr>\n",
       "    <tr>\n",
       "      <th>3</th>\n",
       "      <td>22438</td>\n",
       "      <td>194.684379</td>\n",
       "    </tr>\n",
       "  </tbody>\n",
       "</table>\n",
       "</div>"
      ],
      "text/plain": [
       "   main_id_locality   time_diff\n",
       "0              1078  171.399381\n",
       "1             22390   78.184118\n",
       "2             22430  155.030171\n",
       "3             22438  194.684379"
      ]
     },
     "execution_count": 167,
     "metadata": {},
     "output_type": "execute_result"
    }
   ],
   "source": [
    "train_time_diff = train.groupby(by='main_id_locality').apply(lambda x: (x['ETA'] - x['RTA']).mean())\n",
    "train_time_diff = pd.DataFrame(train_time_diff, columns=['time_diff']).reset_index()\n",
    "train_time_diff"
   ]
  },
  {
   "cell_type": "code",
   "execution_count": 168,
   "metadata": {},
   "outputs": [
    {
     "data": {
      "text/html": [
       "<div>\n",
       "<style scoped>\n",
       "    .dataframe tbody tr th:only-of-type {\n",
       "        vertical-align: middle;\n",
       "    }\n",
       "\n",
       "    .dataframe tbody tr th {\n",
       "        vertical-align: top;\n",
       "    }\n",
       "\n",
       "    .dataframe thead th {\n",
       "        text-align: right;\n",
       "    }\n",
       "</style>\n",
       "<table border=\"1\" class=\"dataframe\">\n",
       "  <thead>\n",
       "    <tr style=\"text-align: right;\">\n",
       "      <th></th>\n",
       "      <th>main_id_locality</th>\n",
       "      <th>distance_diff</th>\n",
       "    </tr>\n",
       "  </thead>\n",
       "  <tbody>\n",
       "    <tr>\n",
       "      <th>0</th>\n",
       "      <td>1078</td>\n",
       "      <td>0.111761</td>\n",
       "    </tr>\n",
       "    <tr>\n",
       "      <th>1</th>\n",
       "      <td>22390</td>\n",
       "      <td>0.117156</td>\n",
       "    </tr>\n",
       "    <tr>\n",
       "      <th>2</th>\n",
       "      <td>22430</td>\n",
       "      <td>0.235388</td>\n",
       "    </tr>\n",
       "    <tr>\n",
       "      <th>3</th>\n",
       "      <td>22438</td>\n",
       "      <td>0.483684</td>\n",
       "    </tr>\n",
       "  </tbody>\n",
       "</table>\n",
       "</div>"
      ],
      "text/plain": [
       "   main_id_locality  distance_diff\n",
       "0              1078       0.111761\n",
       "1             22390       0.117156\n",
       "2             22430       0.235388\n",
       "3             22438       0.483684"
      ]
     },
     "execution_count": 168,
     "metadata": {},
     "output_type": "execute_result"
    }
   ],
   "source": [
    "train_dist_diff = train.groupby(by='main_id_locality').apply(lambda x: (x['EDA'] - x['RDA']).mean())\n",
    "train_dist_diff = pd.DataFrame(train_dist_diff, columns=['distance_diff']).reset_index()\n",
    "train_dist_diff"
   ]
  },
  {
   "cell_type": "markdown",
   "metadata": {},
   "source": [
    "Ошибка действительно большая"
   ]
  },
  {
   "cell_type": "markdown",
   "metadata": {},
   "source": [
    "Какие города в выборке"
   ]
  },
  {
   "cell_type": "code",
   "execution_count": 170,
   "metadata": {},
   "outputs": [
    {
     "data": {
      "text/plain": [
       "(array([ 1078, 22390, 22430, 22438], dtype=int64),\n",
       " array([55.7943877, 53.18333  , 51.530376 , 58.0103211]),\n",
       " array([49.1115312, 50.11667  , 45.9530257, 56.2341778]))"
      ]
     },
     "execution_count": 170,
     "metadata": {},
     "output_type": "execute_result"
    }
   ],
   "source": [
    "train['main_id_locality'].unique(), train['center_latitude'].unique(), train['center_longitude'].unique()"
   ]
  },
  {
   "cell_type": "markdown",
   "metadata": {},
   "source": [
    "* 1078 - Казань/Kazan - +0 мск\n",
    "* 22390 - Самара/Samara - +1 мск\n",
    "* 22430 - Саратов/Saratov - +1 мск\n",
    "* 22438 - Пермь/Perm - +2 мск"
   ]
  },
  {
   "cell_type": "code",
   "execution_count": 171,
   "metadata": {},
   "outputs": [],
   "source": [
    "city_offset = {\n",
    "    1078: 0,\n",
    "    22390: 1,\n",
    "    22430: 1,\n",
    "    22438: 2\n",
    "}"
   ]
  },
  {
   "cell_type": "code",
   "execution_count": 172,
   "metadata": {},
   "outputs": [],
   "source": [
    "def time_preprocessing(df):\n",
    "    df['OrderedDate'] = pd.to_datetime(df['OrderedDate'])\n",
    "    df['OrderedDate'] += pd.to_timedelta(df['main_id_locality'].apply(lambda x: city_offset[x]), unit='h')\n",
    "    \n",
    "    df['day_of_week'] = df['OrderedDate'].dt.day_name()\n",
    "    df['is_weekend'] = df['day_of_week'].isin(['Saturday', 'Sunday'])\n",
    "\n",
    "    df['hour'] = df['OrderedDate'].dt.hour\n",
    "    df['is_rush_hour'] = df['hour'].between(8, 12) | df['hour'].between(17, 19)\n",
    "    df['is_night'] = df['hour'].between(22, 24) | df['hour'].between(0, 7)\n",
    "\n",
    "    return df"
   ]
  },
  {
   "cell_type": "code",
   "execution_count": 173,
   "metadata": {},
   "outputs": [],
   "source": [
    "def geo_preprocessing(df):\n",
    "    df['distance'] = df.progress_apply(lambda x: distance.distance((x['latitude'], x['longitude']), (x['del_latitude'], x['del_longitude'])).km, axis=1)\n",
    "    df['detour'] = df['EDA'] - df['distance']\n",
    "    return df"
   ]
  },
  {
   "cell_type": "code",
   "execution_count": 175,
   "metadata": {},
   "outputs": [],
   "source": [
    "def diff_preprocessing(df):\n",
    "    df = df.merge(train_time_diff)\n",
    "    df = df.merge(train_dist_diff)\n",
    "    return df"
   ]
  },
  {
   "cell_type": "code",
   "execution_count": 179,
   "metadata": {},
   "outputs": [],
   "source": [
    "preprocessings = [time_preprocessing, geo_preprocessing, diff_preprocessing]\n",
    "\n",
    "def preprocess(df):\n",
    "    for preprocessing in preprocessings:\n",
    "        print(f\"Start {preprocessing.__name__}\")\n",
    "        df = preprocessing(df)\n",
    "    return df"
   ]
  },
  {
   "cell_type": "code",
   "execution_count": 180,
   "metadata": {},
   "outputs": [
    {
     "name": "stdout",
     "output_type": "stream",
     "text": [
      "Start time_preprocessing\n",
      "Start geo_preprocessing\n"
     ]
    },
    {
     "data": {
      "application/vnd.jupyter.widget-view+json": {
       "model_id": "",
       "version_major": 2,
       "version_minor": 0
      },
      "text/plain": [
       "HBox(children=(IntProgress(value=0, max=803180), HTML(value='')))"
      ]
     },
     "metadata": {},
     "output_type": "display_data"
    },
    {
     "name": "stdout",
     "output_type": "stream",
     "text": [
      "\n",
      "Start diff_preprocessing\n"
     ]
    }
   ],
   "source": [
    "train = preprocess(train)"
   ]
  },
  {
   "cell_type": "code",
   "execution_count": 181,
   "metadata": {},
   "outputs": [
    {
     "data": {
      "text/html": [
       "<div>\n",
       "<style scoped>\n",
       "    .dataframe tbody tr th:only-of-type {\n",
       "        vertical-align: middle;\n",
       "    }\n",
       "\n",
       "    .dataframe tbody tr th {\n",
       "        vertical-align: top;\n",
       "    }\n",
       "\n",
       "    .dataframe thead th {\n",
       "        text-align: right;\n",
       "    }\n",
       "</style>\n",
       "<table border=\"1\" class=\"dataframe\">\n",
       "  <thead>\n",
       "    <tr style=\"text-align: right;\">\n",
       "      <th></th>\n",
       "      <th>Id</th>\n",
       "      <th>main_id_locality</th>\n",
       "      <th>ETA</th>\n",
       "      <th>RTA</th>\n",
       "      <th>OrderedDate</th>\n",
       "      <th>latitude</th>\n",
       "      <th>del_latitude</th>\n",
       "      <th>longitude</th>\n",
       "      <th>del_longitude</th>\n",
       "      <th>EDA</th>\n",
       "      <th>...</th>\n",
       "      <th>route</th>\n",
       "      <th>day_of_week</th>\n",
       "      <th>is_weekend</th>\n",
       "      <th>hour</th>\n",
       "      <th>is_rush_hour</th>\n",
       "      <th>is_night</th>\n",
       "      <th>distance</th>\n",
       "      <th>detour</th>\n",
       "      <th>time_diff</th>\n",
       "      <th>distance_diff</th>\n",
       "    </tr>\n",
       "  </thead>\n",
       "  <tbody>\n",
       "    <tr>\n",
       "      <th>0</th>\n",
       "      <td>0</td>\n",
       "      <td>1078</td>\n",
       "      <td>226.0</td>\n",
       "      <td>188.0</td>\n",
       "      <td>2020-02-12 19:12:06</td>\n",
       "      <td>55.826019</td>\n",
       "      <td>55.825581</td>\n",
       "      <td>49.134529</td>\n",
       "      <td>49.126949</td>\n",
       "      <td>1.0</td>\n",
       "      <td>...</td>\n",
       "      <td>gnvsIaq{jHChA??uC???OPG^F^NRzKBd@AN[r@???`@`@`...</td>\n",
       "      <td>Wednesday</td>\n",
       "      <td>False</td>\n",
       "      <td>19</td>\n",
       "      <td>True</td>\n",
       "      <td>False</td>\n",
       "      <td>0.477554</td>\n",
       "      <td>0.522446</td>\n",
       "      <td>171.399381</td>\n",
       "      <td>0.111761</td>\n",
       "    </tr>\n",
       "    <tr>\n",
       "      <th>1</th>\n",
       "      <td>1</td>\n",
       "      <td>1078</td>\n",
       "      <td>718.0</td>\n",
       "      <td>725.0</td>\n",
       "      <td>2020-02-12 19:12:22</td>\n",
       "      <td>55.795502</td>\n",
       "      <td>55.820911</td>\n",
       "      <td>49.131470</td>\n",
       "      <td>49.115360</td>\n",
       "      <td>5.0</td>\n",
       "      <td>...</td>\n",
       "      <td>sqpsI}~zjHyAr]e@lMk@fLaBlb@i@rLKhBCdAUxEGlCg@f...</td>\n",
       "      <td>Wednesday</td>\n",
       "      <td>False</td>\n",
       "      <td>19</td>\n",
       "      <td>True</td>\n",
       "      <td>False</td>\n",
       "      <td>3.003986</td>\n",
       "      <td>1.996014</td>\n",
       "      <td>171.399381</td>\n",
       "      <td>0.111761</td>\n",
       "    </tr>\n",
       "    <tr>\n",
       "      <th>2</th>\n",
       "      <td>2</td>\n",
       "      <td>1078</td>\n",
       "      <td>612.0</td>\n",
       "      <td>764.0</td>\n",
       "      <td>2020-02-12 19:12:44</td>\n",
       "      <td>55.791050</td>\n",
       "      <td>55.819962</td>\n",
       "      <td>49.226070</td>\n",
       "      <td>49.176628</td>\n",
       "      <td>5.0</td>\n",
       "      <td>...</td>\n",
       "      <td>auosI}mmkH?LHd@KhC??o@w@[g@m@iAUk@??{G|OiB`Ek@...</td>\n",
       "      <td>Wednesday</td>\n",
       "      <td>False</td>\n",
       "      <td>19</td>\n",
       "      <td>True</td>\n",
       "      <td>False</td>\n",
       "      <td>4.469195</td>\n",
       "      <td>0.530805</td>\n",
       "      <td>171.399381</td>\n",
       "      <td>0.111761</td>\n",
       "    </tr>\n",
       "    <tr>\n",
       "      <th>3</th>\n",
       "      <td>3</td>\n",
       "      <td>1078</td>\n",
       "      <td>1560.0</td>\n",
       "      <td>1412.0</td>\n",
       "      <td>2020-02-12 19:12:44</td>\n",
       "      <td>55.753899</td>\n",
       "      <td>55.824680</td>\n",
       "      <td>49.188519</td>\n",
       "      <td>49.093700</td>\n",
       "      <td>13.0</td>\n",
       "      <td>...</td>\n",
       "      <td>{lhsIiffkHmKN_C?mIPwMJ??Si@gA{B??Wq@MRCJTp@hAd...</td>\n",
       "      <td>Wednesday</td>\n",
       "      <td>False</td>\n",
       "      <td>19</td>\n",
       "      <td>True</td>\n",
       "      <td>False</td>\n",
       "      <td>9.873466</td>\n",
       "      <td>3.126534</td>\n",
       "      <td>171.399381</td>\n",
       "      <td>0.111761</td>\n",
       "    </tr>\n",
       "    <tr>\n",
       "      <th>4</th>\n",
       "      <td>4</td>\n",
       "      <td>1078</td>\n",
       "      <td>1528.0</td>\n",
       "      <td>893.0</td>\n",
       "      <td>2020-02-12 19:12:45</td>\n",
       "      <td>55.822361</td>\n",
       "      <td>55.786758</td>\n",
       "      <td>49.069092</td>\n",
       "      <td>49.143501</td>\n",
       "      <td>9.0</td>\n",
       "      <td>...</td>\n",
       "      <td>yxusI{xnjHgAfG??}IuHkAqA??pIoe@VsA??dAkG`BuH??...</td>\n",
       "      <td>Wednesday</td>\n",
       "      <td>False</td>\n",
       "      <td>19</td>\n",
       "      <td>True</td>\n",
       "      <td>False</td>\n",
       "      <td>6.122452</td>\n",
       "      <td>2.877548</td>\n",
       "      <td>171.399381</td>\n",
       "      <td>0.111761</td>\n",
       "    </tr>\n",
       "  </tbody>\n",
       "</table>\n",
       "<p>5 rows × 32 columns</p>\n",
       "</div>"
      ],
      "text/plain": [
       "   Id  main_id_locality     ETA     RTA         OrderedDate   latitude  \\\n",
       "0   0              1078   226.0   188.0 2020-02-12 19:12:06  55.826019   \n",
       "1   1              1078   718.0   725.0 2020-02-12 19:12:22  55.795502   \n",
       "2   2              1078   612.0   764.0 2020-02-12 19:12:44  55.791050   \n",
       "3   3              1078  1560.0  1412.0 2020-02-12 19:12:44  55.753899   \n",
       "4   4              1078  1528.0   893.0 2020-02-12 19:12:45  55.822361   \n",
       "\n",
       "   del_latitude  longitude  del_longitude   EDA  ...  \\\n",
       "0     55.825581  49.134529      49.126949   1.0  ...   \n",
       "1     55.820911  49.131470      49.115360   5.0  ...   \n",
       "2     55.819962  49.226070      49.176628   5.0  ...   \n",
       "3     55.824680  49.188519      49.093700  13.0  ...   \n",
       "4     55.786758  49.069092      49.143501   9.0  ...   \n",
       "\n",
       "                                               route day_of_week is_weekend  \\\n",
       "0  gnvsIaq{jHChA??uC???OPG^F^NRzKBd@AN[r@???`@`@`...   Wednesday      False   \n",
       "1  sqpsI}~zjHyAr]e@lMk@fLaBlb@i@rLKhBCdAUxEGlCg@f...   Wednesday      False   \n",
       "2  auosI}mmkH?LHd@KhC??o@w@[g@m@iAUk@??{G|OiB`Ek@...   Wednesday      False   \n",
       "3  {lhsIiffkHmKN_C?mIPwMJ??Si@gA{B??Wq@MRCJTp@hAd...   Wednesday      False   \n",
       "4  yxusI{xnjHgAfG??}IuHkAqA??pIoe@VsA??dAkG`BuH??...   Wednesday      False   \n",
       "\n",
       "  hour  is_rush_hour  is_night  distance    detour   time_diff  distance_diff  \n",
       "0   19          True     False  0.477554  0.522446  171.399381       0.111761  \n",
       "1   19          True     False  3.003986  1.996014  171.399381       0.111761  \n",
       "2   19          True     False  4.469195  0.530805  171.399381       0.111761  \n",
       "3   19          True     False  9.873466  3.126534  171.399381       0.111761  \n",
       "4   19          True     False  6.122452  2.877548  171.399381       0.111761  \n",
       "\n",
       "[5 rows x 32 columns]"
      ]
     },
     "execution_count": 181,
     "metadata": {},
     "output_type": "execute_result"
    }
   ],
   "source": [
    "train.head()"
   ]
  },
  {
   "cell_type": "code",
   "execution_count": 182,
   "metadata": {},
   "outputs": [],
   "source": [
    "class CityInfo:    \n",
    "    def __init__(self, main_id_locality : int, name: str):\n",
    "        self.main_id_locality = main_id_locality \n",
    "        self.name = name\n",
    "        self.place = f'{self.name}, Russia'\n",
    "        \n",
    "    @staticmethod\n",
    "    def filter_dict(d):\n",
    "        return {k: v for k, v in d.items() if isinstance(v, numbers.Number)}\n",
    "    \n",
    "    def add_stats(self, df, name):\n",
    "        self.stats[f'{name}_speed_city'] = (df['RDA'] / df['RTA']).mean()  \n",
    "        avg = df.groupby(by='hour').apply(lambda x: (x['RDA'] / x['RTA']).mean())\n",
    "        avg = pd.DataFrame(avg).T.rename(columns = lambda x: f\"{name}_speed_at_{x}\")\n",
    "        return pd.concat([self.stats, avg], axis=1)\n",
    "        \n",
    "    def calculate_statistics(self, df):\n",
    "        G = ox.graph_from_place(self.place, network_type='drive')\n",
    "        gdf = ox.gdf_from_place(self.place)\n",
    "        area = ox.project_gdf(gdf).unary_union.area\n",
    "        \n",
    "        self.basic_stats = ox.basic_stats(G, area=area, clean_intersects=True)\n",
    "        self.basic_stats  = self.filter_dict(self.basic_stats)\n",
    "        self.extended_stats = ox.extended_stats(G, ecc=True, bc=True, cc=True)\n",
    "        self.extended_stats  = self.filter_dict(self.extended_stats)\n",
    "        \n",
    "        self.stats = pd.DataFrame.from_dict({**self.basic_stats, **self.extended_stats}, orient='index').T\n",
    "        self.stats['main_id_locality'] = self.main_id_locality\n",
    "        \n",
    "        df = df[df['main_id_locality'] == self.main_id_locality]\n",
    "        \n",
    "        self.stats = self.add_stats(df, 'avg')\n",
    "        self.stats = self.add_stats(df[df['is_rush_hour']], 'rush_avg')\n",
    "        self.stats = self.add_stats(df[df['is_night']], 'night_avg')\n",
    "        self.stats = self.add_stats(df[df['is_weekend']], 'weekend_avg')\n",
    "        self.stats = self.add_stats(df[~df['is_weekend']], 'work_avg')"
   ]
  },
  {
   "cell_type": "code",
   "execution_count": 183,
   "metadata": {},
   "outputs": [],
   "source": [
    "cities = {\n",
    "    1078: CityInfo(main_id_locality=1078, name='Kazan'),\n",
    "    22390: CityInfo(main_id_locality=22390, name='Samara'),\n",
    "    22430: CityInfo(main_id_locality=22430, name='Saratov'),\n",
    "    22438: CityInfo(main_id_locality=22438, name='Perm')\n",
    "}"
   ]
  },
  {
   "cell_type": "code",
   "execution_count": 184,
   "metadata": {},
   "outputs": [
    {
     "data": {
      "application/vnd.jupyter.widget-view+json": {
       "model_id": "",
       "version_major": 2,
       "version_minor": 0
      },
      "text/plain": [
       "HBox(children=(IntProgress(value=0, max=4), HTML(value='')))"
      ]
     },
     "metadata": {},
     "output_type": "display_data"
    },
    {
     "name": "stdout",
     "output_type": "stream",
     "text": [
      "\n"
     ]
    }
   ],
   "source": [
    "for city in tqdm(cities.values()):\n",
    "    city.calculate_statistics(train)"
   ]
  },
  {
   "cell_type": "code",
   "execution_count": 192,
   "metadata": {},
   "outputs": [
    {
     "data": {
      "text/html": [
       "<div>\n",
       "<style scoped>\n",
       "    .dataframe tbody tr th:only-of-type {\n",
       "        vertical-align: middle;\n",
       "    }\n",
       "\n",
       "    .dataframe tbody tr th {\n",
       "        vertical-align: top;\n",
       "    }\n",
       "\n",
       "    .dataframe thead th {\n",
       "        text-align: right;\n",
       "    }\n",
       "</style>\n",
       "<table border=\"1\" class=\"dataframe\">\n",
       "  <thead>\n",
       "    <tr style=\"text-align: right;\">\n",
       "      <th></th>\n",
       "      <th>n</th>\n",
       "      <th>m</th>\n",
       "      <th>k_avg</th>\n",
       "      <th>intersection_count</th>\n",
       "      <th>streets_per_node_avg</th>\n",
       "      <th>edge_length_total</th>\n",
       "      <th>edge_length_avg</th>\n",
       "      <th>street_length_total</th>\n",
       "      <th>street_length_avg</th>\n",
       "      <th>street_segments_count</th>\n",
       "      <th>...</th>\n",
       "      <th>work_avg_speed_at_14</th>\n",
       "      <th>work_avg_speed_at_15</th>\n",
       "      <th>work_avg_speed_at_16</th>\n",
       "      <th>work_avg_speed_at_17</th>\n",
       "      <th>work_avg_speed_at_18</th>\n",
       "      <th>work_avg_speed_at_19</th>\n",
       "      <th>work_avg_speed_at_20</th>\n",
       "      <th>work_avg_speed_at_21</th>\n",
       "      <th>work_avg_speed_at_22</th>\n",
       "      <th>work_avg_speed_at_23</th>\n",
       "    </tr>\n",
       "  </thead>\n",
       "  <tbody>\n",
       "    <tr>\n",
       "      <th>0</th>\n",
       "      <td>7021.0</td>\n",
       "      <td>17669.0</td>\n",
       "      <td>5.033186</td>\n",
       "      <td>5604.0</td>\n",
       "      <td>2.795756</td>\n",
       "      <td>3452335.425</td>\n",
       "      <td>195.389407</td>\n",
       "      <td>1950330.999</td>\n",
       "      <td>199.053991</td>\n",
       "      <td>9798.0</td>\n",
       "      <td>...</td>\n",
       "      <td>0.007848</td>\n",
       "      <td>0.007812</td>\n",
       "      <td>0.007144</td>\n",
       "      <td>0.006290</td>\n",
       "      <td>0.006826</td>\n",
       "      <td>0.008095</td>\n",
       "      <td>0.008686</td>\n",
       "      <td>0.009017</td>\n",
       "      <td>0.009310</td>\n",
       "      <td>0.009489</td>\n",
       "    </tr>\n",
       "    <tr>\n",
       "      <th>0</th>\n",
       "      <td>5729.0</td>\n",
       "      <td>14738.0</td>\n",
       "      <td>5.145051</td>\n",
       "      <td>4770.0</td>\n",
       "      <td>2.874847</td>\n",
       "      <td>2694314.768</td>\n",
       "      <td>182.814138</td>\n",
       "      <td>1493328.164</td>\n",
       "      <td>182.024398</td>\n",
       "      <td>8204.0</td>\n",
       "      <td>...</td>\n",
       "      <td>0.005852</td>\n",
       "      <td>0.005836</td>\n",
       "      <td>0.005461</td>\n",
       "      <td>0.004852</td>\n",
       "      <td>0.005169</td>\n",
       "      <td>0.005990</td>\n",
       "      <td>0.006655</td>\n",
       "      <td>0.007190</td>\n",
       "      <td>0.007522</td>\n",
       "      <td>0.007771</td>\n",
       "    </tr>\n",
       "    <tr>\n",
       "      <th>0</th>\n",
       "      <td>5893.0</td>\n",
       "      <td>15105.0</td>\n",
       "      <td>5.126421</td>\n",
       "      <td>4575.0</td>\n",
       "      <td>2.740031</td>\n",
       "      <td>2395076.324</td>\n",
       "      <td>158.561822</td>\n",
       "      <td>1274114.934</td>\n",
       "      <td>158.118011</td>\n",
       "      <td>8058.0</td>\n",
       "      <td>...</td>\n",
       "      <td>0.006466</td>\n",
       "      <td>0.006466</td>\n",
       "      <td>0.006363</td>\n",
       "      <td>0.005756</td>\n",
       "      <td>0.006163</td>\n",
       "      <td>0.006852</td>\n",
       "      <td>0.007341</td>\n",
       "      <td>0.007745</td>\n",
       "      <td>0.007981</td>\n",
       "      <td>0.008013</td>\n",
       "    </tr>\n",
       "    <tr>\n",
       "      <th>0</th>\n",
       "      <td>6554.0</td>\n",
       "      <td>16438.0</td>\n",
       "      <td>5.016173</td>\n",
       "      <td>4999.0</td>\n",
       "      <td>2.747635</td>\n",
       "      <td>3344093.900</td>\n",
       "      <td>203.436787</td>\n",
       "      <td>1830806.903</td>\n",
       "      <td>203.830651</td>\n",
       "      <td>8982.0</td>\n",
       "      <td>...</td>\n",
       "      <td>0.005796</td>\n",
       "      <td>0.005851</td>\n",
       "      <td>0.005527</td>\n",
       "      <td>0.004939</td>\n",
       "      <td>0.004931</td>\n",
       "      <td>0.005800</td>\n",
       "      <td>0.006247</td>\n",
       "      <td>0.006691</td>\n",
       "      <td>0.007166</td>\n",
       "      <td>0.007474</td>\n",
       "    </tr>\n",
       "  </tbody>\n",
       "</table>\n",
       "<p>4 rows × 127 columns</p>\n",
       "</div>"
      ],
      "text/plain": [
       "        n        m     k_avg  intersection_count  streets_per_node_avg  \\\n",
       "0  7021.0  17669.0  5.033186              5604.0              2.795756   \n",
       "0  5729.0  14738.0  5.145051              4770.0              2.874847   \n",
       "0  5893.0  15105.0  5.126421              4575.0              2.740031   \n",
       "0  6554.0  16438.0  5.016173              4999.0              2.747635   \n",
       "\n",
       "   edge_length_total  edge_length_avg  street_length_total  street_length_avg  \\\n",
       "0        3452335.425       195.389407          1950330.999         199.053991   \n",
       "0        2694314.768       182.814138          1493328.164         182.024398   \n",
       "0        2395076.324       158.561822          1274114.934         158.118011   \n",
       "0        3344093.900       203.436787          1830806.903         203.830651   \n",
       "\n",
       "   street_segments_count  ...  work_avg_speed_at_14  work_avg_speed_at_15  \\\n",
       "0                 9798.0  ...              0.007848              0.007812   \n",
       "0                 8204.0  ...              0.005852              0.005836   \n",
       "0                 8058.0  ...              0.006466              0.006466   \n",
       "0                 8982.0  ...              0.005796              0.005851   \n",
       "\n",
       "   work_avg_speed_at_16  work_avg_speed_at_17  work_avg_speed_at_18  \\\n",
       "0              0.007144              0.006290              0.006826   \n",
       "0              0.005461              0.004852              0.005169   \n",
       "0              0.006363              0.005756              0.006163   \n",
       "0              0.005527              0.004939              0.004931   \n",
       "\n",
       "   work_avg_speed_at_19  work_avg_speed_at_20  work_avg_speed_at_21  \\\n",
       "0              0.008095              0.008686              0.009017   \n",
       "0              0.005990              0.006655              0.007190   \n",
       "0              0.006852              0.007341              0.007745   \n",
       "0              0.005800              0.006247              0.006691   \n",
       "\n",
       "   work_avg_speed_at_22  work_avg_speed_at_23  \n",
       "0              0.009310              0.009489  \n",
       "0              0.007522              0.007771  \n",
       "0              0.007981              0.008013  \n",
       "0              0.007166              0.007474  \n",
       "\n",
       "[4 rows x 127 columns]"
      ]
     },
     "execution_count": 192,
     "metadata": {},
     "output_type": "execute_result"
    }
   ],
   "source": [
    "cities_info = pd.concat([city.stats for city in cities.values()])\n",
    "cities_info"
   ]
  },
  {
   "cell_type": "code",
   "execution_count": 193,
   "metadata": {},
   "outputs": [],
   "source": [
    "def join_cities_info(df):\n",
    "    return df.merge(cities_info)"
   ]
  },
  {
   "cell_type": "code",
   "execution_count": 196,
   "metadata": {},
   "outputs": [],
   "source": [
    "train = join_cities_info(train)"
   ]
  },
  {
   "cell_type": "code",
   "execution_count": 198,
   "metadata": {},
   "outputs": [
    {
     "data": {
      "text/plain": [
       "(803180, 158)"
      ]
     },
     "execution_count": 198,
     "metadata": {},
     "output_type": "execute_result"
    }
   ],
   "source": [
    "train.shape"
   ]
  },
  {
   "cell_type": "markdown",
   "metadata": {},
   "source": [
    "Применяем для оставшихся частей"
   ]
  },
  {
   "cell_type": "code",
   "execution_count": 199,
   "metadata": {},
   "outputs": [
    {
     "name": "stdout",
     "output_type": "stream",
     "text": [
      "Start time_preprocessing\n",
      "Start geo_preprocessing\n"
     ]
    },
    {
     "data": {
      "application/vnd.jupyter.widget-view+json": {
       "model_id": "",
       "version_major": 2,
       "version_minor": 0
      },
      "text/plain": [
       "HBox(children=(IntProgress(value=0, max=101354), HTML(value='')))"
      ]
     },
     "metadata": {},
     "output_type": "display_data"
    },
    {
     "name": "stdout",
     "output_type": "stream",
     "text": [
      "\n",
      "Start diff_preprocessing\n"
     ]
    }
   ],
   "source": [
    "valid = preprocess(valid)\n",
    "valid = join_cities_info(valid)"
   ]
  },
  {
   "cell_type": "code",
   "execution_count": 200,
   "metadata": {},
   "outputs": [
    {
     "name": "stdout",
     "output_type": "stream",
     "text": [
      "Start time_preprocessing\n",
      "Start geo_preprocessing\n"
     ]
    },
    {
     "data": {
      "application/vnd.jupyter.widget-view+json": {
       "model_id": "",
       "version_major": 2,
       "version_minor": 0
      },
      "text/plain": [
       "HBox(children=(IntProgress(value=0, max=89938), HTML(value='')))"
      ]
     },
     "metadata": {},
     "output_type": "display_data"
    },
    {
     "name": "stdout",
     "output_type": "stream",
     "text": [
      "\n",
      "Start diff_preprocessing\n"
     ]
    }
   ],
   "source": [
    "test = preprocess(test)\n",
    "test = join_cities_info(test)"
   ]
  },
  {
   "cell_type": "code",
   "execution_count": 205,
   "metadata": {},
   "outputs": [],
   "source": [
    "preprocessed_dir = Path('preprocessed')\n",
    "preprocessed_dir.mkdir(exist_ok=True)"
   ]
  },
  {
   "cell_type": "code",
   "execution_count": 206,
   "metadata": {},
   "outputs": [],
   "source": [
    "train.to_csv(preprocessed_dir / 'train.csv', index=False)\n",
    "valid.to_csv(preprocessed_dir / 'valid.csv', index=False)\n",
    "test.to_csv(preprocessed_dir / 'test.csv', index=False)"
   ]
  },
  {
   "cell_type": "code",
   "execution_count": null,
   "metadata": {},
   "outputs": [],
   "source": []
  },
  {
   "cell_type": "code",
   "execution_count": 210,
   "metadata": {},
   "outputs": [],
   "source": [
    "def get_current_speed(x):\n",
    "    if x['is_night']:\n",
    "        return x[f\"night_avg_speed_at_{x['hour']}\"]\n",
    "    \n",
    "    if x['is_rush_hour']:\n",
    "        return x[f\"rush_avg_speed_at_{x['hour']}\"]\n",
    "    \n",
    "    if x['is_weekend']:\n",
    "        return x[f\"weekend_avg_speed_at_{x['hour']}\"]\n",
    "    \n",
    "    return x[f\"work_avg_speed_at_{x['hour']}\"]"
   ]
  },
  {
   "cell_type": "code",
   "execution_count": 213,
   "metadata": {},
   "outputs": [
    {
     "data": {
      "application/vnd.jupyter.widget-view+json": {
       "model_id": "",
       "version_major": 2,
       "version_minor": 0
      },
      "text/plain": [
       "HBox(children=(IntProgress(value=0, max=803180), HTML(value='')))"
      ]
     },
     "metadata": {},
     "output_type": "display_data"
    },
    {
     "name": "stdout",
     "output_type": "stream",
     "text": [
      "\n"
     ]
    },
    {
     "data": {
      "text/plain": [
       "0         0.008250\n",
       "1         0.008250\n",
       "2         0.008250\n",
       "3         0.008250\n",
       "4         0.008250\n",
       "            ...   \n",
       "803175    0.006047\n",
       "803176    0.006047\n",
       "803177    0.006047\n",
       "803178    0.006047\n",
       "803179    0.006047\n",
       "Length: 803180, dtype: float64"
      ]
     },
     "execution_count": 213,
     "metadata": {},
     "output_type": "execute_result"
    }
   ],
   "source": [
    "train.progress_apply(get_current_speed, axis=1)"
   ]
  },
  {
   "cell_type": "code",
   "execution_count": null,
   "metadata": {},
   "outputs": [],
   "source": []
  },
  {
   "cell_type": "code",
   "execution_count": null,
   "metadata": {},
   "outputs": [],
   "source": [
    "train.apply(lamnda x: )"
   ]
  },
  {
   "cell_type": "code",
   "execution_count": null,
   "metadata": {},
   "outputs": [],
   "source": []
  },
  {
   "cell_type": "code",
   "execution_count": 208,
   "metadata": {},
   "outputs": [
    {
     "name": "stdout",
     "output_type": "stream",
     "text": [
      "['Id', 'main_id_locality', 'ETA', 'RTA', 'OrderedDate', 'latitude', 'del_latitude', 'longitude', 'del_longitude', 'EDA', 'RDA', 'ReadyForCollection', 'ClientCollected', 'GoodArrived', 'ready_latitude', 'ready_longitude', 'onway_latitude', 'onway_longitude', 'arrived_latitude', 'arrived_longitude', 'center_latitude', 'center_longitude', 'route', 'day_of_week', 'is_weekend', 'hour', 'is_rush_hour', 'is_night', 'distance', 'detour', 'time_diff', 'distance_diff', 'n', 'm', 'k_avg', 'intersection_count', 'streets_per_node_avg', 'edge_length_total', 'edge_length_avg', 'street_length_total', 'street_length_avg', 'street_segments_count', 'node_density_km', 'intersection_density_km', 'edge_density_km', 'street_density_km', 'circuity_avg', 'self_loop_proportion', 'clean_intersection_count', 'clean_intersection_density_km', 'avg_neighbor_degree_avg', 'avg_weighted_neighbor_degree_avg', 'degree_centrality_avg', 'clustering_coefficient_avg', 'clustering_coefficient_weighted_avg', 'pagerank_max_node', 'pagerank_max', 'pagerank_min_node', 'pagerank_min', 'diameter', 'radius', 'closeness_centrality_avg', 'betweenness_centrality_avg', 'avg_speed_city', 'avg_speed_at_0', 'avg_speed_at_1', 'avg_speed_at_2', 'avg_speed_at_3', 'avg_speed_at_4', 'avg_speed_at_5', 'avg_speed_at_6', 'avg_speed_at_7', 'avg_speed_at_8', 'avg_speed_at_9', 'avg_speed_at_10', 'avg_speed_at_11', 'avg_speed_at_12', 'avg_speed_at_13', 'avg_speed_at_14', 'avg_speed_at_15', 'avg_speed_at_16', 'avg_speed_at_17', 'avg_speed_at_18', 'avg_speed_at_19', 'avg_speed_at_20', 'avg_speed_at_21', 'avg_speed_at_22', 'avg_speed_at_23', 'rush_avg_speed_city', 'rush_avg_speed_at_8', 'rush_avg_speed_at_9', 'rush_avg_speed_at_10', 'rush_avg_speed_at_11', 'rush_avg_speed_at_12', 'rush_avg_speed_at_17', 'rush_avg_speed_at_18', 'rush_avg_speed_at_19', 'night_avg_speed_city', 'night_avg_speed_at_0', 'night_avg_speed_at_1', 'night_avg_speed_at_2', 'night_avg_speed_at_3', 'night_avg_speed_at_4', 'night_avg_speed_at_5', 'night_avg_speed_at_6', 'night_avg_speed_at_7', 'night_avg_speed_at_22', 'night_avg_speed_at_23', 'weekend_avg_speed_city', 'weekend_avg_speed_at_0', 'weekend_avg_speed_at_1', 'weekend_avg_speed_at_2', 'weekend_avg_speed_at_3', 'weekend_avg_speed_at_4', 'weekend_avg_speed_at_5', 'weekend_avg_speed_at_6', 'weekend_avg_speed_at_7', 'weekend_avg_speed_at_8', 'weekend_avg_speed_at_9', 'weekend_avg_speed_at_10', 'weekend_avg_speed_at_11', 'weekend_avg_speed_at_12', 'weekend_avg_speed_at_13', 'weekend_avg_speed_at_14', 'weekend_avg_speed_at_15', 'weekend_avg_speed_at_16', 'weekend_avg_speed_at_17', 'weekend_avg_speed_at_18', 'weekend_avg_speed_at_19', 'weekend_avg_speed_at_20', 'weekend_avg_speed_at_21', 'weekend_avg_speed_at_22', 'weekend_avg_speed_at_23', 'work_avg_speed_city', 'work_avg_speed_at_0', 'work_avg_speed_at_1', 'work_avg_speed_at_2', 'work_avg_speed_at_3', 'work_avg_speed_at_4', 'work_avg_speed_at_5', 'work_avg_speed_at_6', 'work_avg_speed_at_7', 'work_avg_speed_at_8', 'work_avg_speed_at_9', 'work_avg_speed_at_10', 'work_avg_speed_at_11', 'work_avg_speed_at_12', 'work_avg_speed_at_13', 'work_avg_speed_at_14', 'work_avg_speed_at_15', 'work_avg_speed_at_16', 'work_avg_speed_at_17', 'work_avg_speed_at_18', 'work_avg_speed_at_19', 'work_avg_speed_at_20', 'work_avg_speed_at_21', 'work_avg_speed_at_22', 'work_avg_speed_at_23']\n"
     ]
    }
   ],
   "source": [
    "print(list(train.columns))"
   ]
  },
  {
   "cell_type": "code",
   "execution_count": null,
   "metadata": {},
   "outputs": [],
   "source": [
    "G = ox.graph_from_place('Yekaterinburg, Russia', network_type='drive')"
   ]
  },
  {
   "cell_type": "code",
   "execution_count": null,
   "metadata": {},
   "outputs": [],
   "source": [
    "gdf = ox.gdf_from_place('Yekaterinburg, Russia')\n",
    "\n",
    "area = ox.project_gdf(gdf).unary_union.area"
   ]
  },
  {
   "cell_type": "code",
   "execution_count": null,
   "metadata": {},
   "outputs": [],
   "source": [
    "ox.plot_graph(G)"
   ]
  }
 ],
 "metadata": {
  "kernelspec": {
   "display_name": "Python 3",
   "language": "python",
   "name": "python3"
  },
  "language_info": {
   "codemirror_mode": {
    "name": "ipython",
    "version": 3
   },
   "file_extension": ".py",
   "mimetype": "text/x-python",
   "name": "python",
   "nbconvert_exporter": "python",
   "pygments_lexer": "ipython3",
   "version": "3.7.5"
  }
 },
 "nbformat": 4,
 "nbformat_minor": 4
}
